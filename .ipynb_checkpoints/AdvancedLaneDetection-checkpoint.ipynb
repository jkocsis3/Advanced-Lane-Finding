{
 "cells": [
  {
   "cell_type": "code",
   "execution_count": 19,
   "metadata": {
    "collapsed": false
   },
   "outputs": [],
   "source": [
    "import numpy as np\n",
    "import cv2\n",
    "import matplotlib.pyplot as plt\n",
    "import matplotlib.image as mpimg\n",
    "import glob\n",
    "from moviepy.editor import VideoFileClip\n",
    "from IPython.display import HTML\n",
    "global count\n",
    "global left_fit\n",
    "global right_fit\n",
    "from pathlib import Path\n",
    "%matplotlib inline"
   ]
  },
  {
   "cell_type": "markdown",
   "metadata": {},
   "source": [
    "##### Camera Calibration and distortion correction. \n",
    "Using a 9x5 chessboard and 20 calibration images"
   ]
  },
  {
   "cell_type": "code",
   "execution_count": 30,
   "metadata": {
    "collapsed": false
   },
   "outputs": [],
   "source": [
    "import pickle\n",
    "\n",
    "def CalibrateCamera(numCorners):\n",
    "    images = glob.glob('camera_cal/calibration*.jpg')\n",
    "    # real undistorted corners. known object vorrdinates. (x,y,z)\n",
    "    objpoints = []\n",
    "    # these are the corners\n",
    "    imgpoints = []\n",
    "    objp = np.zeros((numCorners[0]*numCorners[1], 3), np.float32)\n",
    "    objp[:,:2] = np.mgrid[0:numCorners[0], 0:numCorners[1]].T.reshape(-1,2)\n",
    "    for path in images:\n",
    "        calibrationImage = mpimg.imread(path)    \n",
    "        gray = cv2.cvtColor(calibrationImage,cv2.COLOR_RGB2GRAY)\n",
    "        ret, corners = cv2.findChessboardCorners(gray, (numCorners[0],numCorners[1]),None)\n",
    "        if ret == True:\n",
    "            imgpoints.append(corners)\n",
    "            objpoints.append(objp)\n",
    "    \n",
    "    # img = cv2.drawChessboardCorners(gray, (numCorners[0],numCorners[1]), corners, ret)\n",
    "    print(\"Calibrating\")\n",
    "    ret, mtx, dist, rvecs, tvecs = cv2.calibrateCamera(objpoints, imgpoints, gray.shape[::-1],None,None)\n",
    "    dist_pickle = {}\n",
    "    dist_pickle[\"mtx\"] = mtx\n",
    "    dist_pickle[\"dist\"] = dist\n",
    "    pickle.dump(dist_pickle, open(\"./calibration_pickle.p\", \"wb\"))\n",
    "    # need to open the pickel data instead of calibrating the camera\n",
    "    return mtx, dist\n",
    "\n",
    "           \n",
    "\n",
    "\n",
    "\n"
   ]
  },
  {
   "cell_type": "markdown",
   "metadata": {},
   "source": [
    "Now the camera is calibrated, we need to undistort the image"
   ]
  },
  {
   "cell_type": "code",
   "execution_count": 3,
   "metadata": {
    "collapsed": false
   },
   "outputs": [],
   "source": [
    "def Undistort(image, mtx, dist ):\n",
    "    return cv2.undistort(image, mtx, dist, None, mtx)\n"
   ]
  },
  {
   "cell_type": "markdown",
   "metadata": {},
   "source": [
    "##### Perspective Transform\n",
    "Need to turn the image into a top down view.\n",
    "This will show the angle of the curve much better than a POV image\n"
   ]
  },
  {
   "cell_type": "code",
   "execution_count": 4,
   "metadata": {
    "collapsed": false
   },
   "outputs": [],
   "source": [
    "def GetWarpImageData_X(img_size):\n",
    "    src = np.float32([[585, 460], \n",
    "                      [203, 720],\n",
    "                      [1127, 720],\n",
    "                      [695, 460]\n",
    "                     ])\n",
    "    dst = np.float32([[320, 0], [320, 720], [960, 720],[960, 0]])\n",
    "    m = cv2.getPerspectiveTransform(src, dst)\n",
    "    Minv = cv2.getPerspectiveTransform(dst, src)\n",
    "    return m, Minv\n",
    "\n"
   ]
  },
  {
   "cell_type": "code",
   "execution_count": 5,
   "metadata": {
    "collapsed": true
   },
   "outputs": [],
   "source": [
    "def GetWarpImageData(img_size):\n",
    "    botWidth = .76\n",
    "    midWidth = .08\n",
    "    heightPct = .62\n",
    "    bottomTrim = .935\n",
    "    offset = img_size[0]*.25\n",
    "    src = np.float32([[img_size[0]*(.5-midWidth/2), img_size[1]*heightPct],\n",
    "                      [img_size[0]*(.5+midWidth/2), img_size[1]*heightPct],\n",
    "                      [img_size[0]*(.5-botWidth/2), img_size[1]*bottomTrim],\n",
    "                      [img_size[0]*(.5+botWidth/2), img_size[1]*bottomTrim]])\n",
    "   \n",
    "    dst = np.float32([[offset, 0],\n",
    "                      [img_size[0]-offset,0],\n",
    "                      [offset, img_size[1]], \n",
    "                      [img_size[0]-offset, img_size[1]]])    \n",
    "    # print(\"src:\", src)\n",
    "    # print(\"dst:\", dst)    \n",
    "    #dst = np.float32([[320, 0], [320, 720], [960, 720],[960, 0]])\n",
    "    m = cv2.getPerspectiveTransform(src, dst)\n",
    "    Minv = cv2.getPerspectiveTransform(dst, src)\n",
    "    return m, Minv\n"
   ]
  },
  {
   "cell_type": "markdown",
   "metadata": {},
   "source": [
    "##### Color and Gradient Threshold\n",
    "\n",
    "Find the absolute gradiant, gradient direction and combine into one image\n",
    "\n"
   ]
  },
  {
   "cell_type": "code",
   "execution_count": 6,
   "metadata": {
    "collapsed": true
   },
   "outputs": [],
   "source": [
    "def abs_sobel_thresh(img, orient='x', sobel_kernel=3, thresh=(0, 255)):\n",
    "    # Calculate directional gradient\n",
    "    if orient == 'x':\n",
    "        sobel = cv2.Sobel(img, cv2.CV_64F, 1, 0, ksize=sobel_kernel)\n",
    "    else:\n",
    "        sobel = cv2.Sobel(img, cv2.CV_64F, 0, 1, ksize=sobel_kernel)\n",
    "    absSobel = np.absolute(sobel)\n",
    "    scaledSobel = np.uint8(255*absSobel/np.max(absSobel))\n",
    "    sxBinary = np.zeros_like(scaledSobel)\n",
    "    sxBinary[(scaledSobel >= thresh[0]) & (scaledSobel <= thresh[1])] = 1   \n",
    "    return sxBinary"
   ]
  },
  {
   "cell_type": "code",
   "execution_count": 7,
   "metadata": {
    "collapsed": false
   },
   "outputs": [],
   "source": [
    "def dir_threshold(img, sobel_kernel=3, thresh=(0, np.pi/2)):\n",
    "    # Apply the following steps to img\n",
    "    # 2) Take the gradient in x and y separately\n",
    "    sobelx = cv2.Sobel(img, cv2.CV_64F, 1, 0, ksize=sobel_kernel)\n",
    "    sobely = cv2.Sobel(img, cv2.CV_64F, 0, 1, ksize=sobel_kernel)\n",
    "    # 3) Take the absolute value of the x and y gradients\n",
    "    absSobelX = np.absolute(sobelx)\n",
    "    absSobelY = np.absolute(sobely)\n",
    "    # 4) Use np.arctan2(abs_sobely, abs_sobelx) to calculate the direction of the gradient\n",
    "    gradDir = np.arctan2(absSobelY, absSobelX)\n",
    "    # 5) Create a binary mask where direction thresholds are met\n",
    "    sxBinary = np.zeros_like(gradDir)\n",
    "    sxBinary[(gradDir > thresh[0]) & (gradDir <= thresh[1])]=1\n",
    "    # 6) Return this mask as your binary_output image\n",
    "    return sxBinary\n"
   ]
  },
  {
   "cell_type": "code",
   "execution_count": 8,
   "metadata": {
    "collapsed": true
   },
   "outputs": [],
   "source": [
    "def mag_thresh(img, sobel_kernel=3, mag_thresh=(0, 255)):\n",
    "    # Apply the following steps to img\n",
    "    # 1) Convert to grayscale\n",
    "    # gray = cv2.cvtColor(img, cv2.COLOR_RGB2GRAY)\n",
    "    # 2) Take the gradient in x and y separately\n",
    "    sobelx = cv2.Sobel(img, cv2.CV_64F, 1, 0, ksize=sobel_kernel)\n",
    "    sobely = cv2.Sobel(img, cv2.CV_64F, 0, 1, ksize=sobel_kernel)\n",
    "    # 3) Calculate the magnitude \n",
    "    absMag = np.sqrt(sobelx**2 + sobely**2)\n",
    "    # 4) Scale to 8-bit (0 - 255) and convert to type = np.uint8\n",
    "    #scaledSobel = np.uint8(255*absMag/np.max(absMag))\n",
    "    scale_factor = np.max(absMag)/255 \n",
    "    absMag = (absMag/scale_factor).astype(np.uint8) \n",
    "    # 5) Create a binary mask where mag thresholds are met\n",
    "    #sxBinary = np.zeros_like(scaledSobel)\n",
    "    #sxBinary[(scaledSobel >= mag_thresh[0]) & (scaledSobel <= mag_thresh[0])] = 1\n",
    "    binary_output = np.zeros_like(absMag)\n",
    "    binary_output[(absMag >= mag_thresh[0]) & (absMag <= mag_thresh[1])] = 1\n",
    "    # 6) Return this mask as your binary_output image\n",
    "    return binary_output"
   ]
  },
  {
   "cell_type": "code",
   "execution_count": 9,
   "metadata": {
    "collapsed": false
   },
   "outputs": [],
   "source": [
    "# Pipeline for color and gradient work\n",
    "\n",
    "def ProcessImage(img):\n",
    "    ksize=31\n",
    "    min_gradx=24\n",
    "    max_gradx=188\n",
    "    min_grady=20\n",
    "    max_grady=255\n",
    "    min_mag=6\n",
    "    max_mag=170\n",
    "    min_dir=0 \n",
    "    max_dir=1.0 \n",
    "    gradx=abs_sobel_thresh(img, orient='x', sobel_kernel=ksize, thresh=(min_gradx, max_gradx))\n",
    "    #grady=abs_sobel_thresh(image, orient='y', sobel_kernel=ksize, thresh=(min_grady, max_grady))\n",
    "    mag_binary = mag_thresh(img, sobel_kernel=ksize, mag_thresh=(min_mag, max_mag))\n",
    "    dir_binary = dir_threshold(img, sobel_kernel=ksize, thresh=(min_dir, max_dir))\n",
    "    combined = np.zeros_like(dir_binary)\n",
    "    combined[(gradx == 1) & ((mag_binary == 1) & (dir_binary == 1))] = 1\n",
    "    return combined\n"
   ]
  },
  {
   "cell_type": "markdown",
   "metadata": {},
   "source": [
    "Once the image is warped, then we need to find the curvature of the lines\n"
   ]
  },
  {
   "cell_type": "code",
   "execution_count": 10,
   "metadata": {
    "collapsed": false
   },
   "outputs": [],
   "source": [
    "def FindLinesInIntialImage(img):\n",
    "    binary_warped = img\n",
    "\n",
    "    # Assuming you have created a warped binary image called \"binary_warped\"\n",
    "    # Take a histogram of the bottom half of the image\n",
    "    histogram = np.sum(binary_warped[binary_warped.shape[0]/2:,:], axis=0)\n",
    "    # Find the peak of the left and right halves of the histogram\n",
    "    # These will be the starting point for the left and right lines\n",
    "    midpoint = np.int(histogram.shape[0]/2)\n",
    "    leftx_base = np.argmax(histogram[:midpoint])\n",
    "    rightx_base = np.argmax(histogram[midpoint:]) + midpoint\n",
    "    # Create an output image to draw on and  visualize the result\n",
    "    out_img = np.dstack((binary_warped, binary_warped, binary_warped))*255\n",
    "\n",
    "    # Choose the number of sliding windows\n",
    "    nwindows = 9\n",
    "    # Set height of windows\n",
    "    window_height = np.int(binary_warped.shape[0]/nwindows)\n",
    "    # Identify the x and y positions of all nonzero pixels in the image\n",
    "    nonzero = img.nonzero()\n",
    "    nonzeroy = np.array(nonzero[0])\n",
    "    nonzerox = np.array(nonzero[1])\n",
    "    # Current positions to be updated for each window\n",
    "    leftx_current = leftx_base\n",
    "    rightx_current = rightx_base\n",
    "    # Set the width of the windows +/- margin\n",
    "    margin = 100\n",
    "    # Set minimum number of pixels found to recenter window\n",
    "    minpix = 50\n",
    "    # Create empty lists to receive left and right lane pixel indices\n",
    "    left_lane_inds = []\n",
    "    right_lane_inds = []\n",
    "\n",
    "    # Step through the windows one by one\n",
    "    for window in range(nwindows):\n",
    "        # Identify window boundaries in x and y (and right and left)\n",
    "        win_y_low = binary_warped.shape[0] - (window+1)*window_height\n",
    "        win_y_high = binary_warped.shape[0] - window*window_height\n",
    "        win_xleft_low = leftx_current - margin\n",
    "        win_xleft_high = leftx_current + margin\n",
    "        win_xright_low = rightx_current - margin\n",
    "        win_xright_high = rightx_current + margin\n",
    "        # Draw the windows on the visualization image\n",
    "        #cv2.rectangle(out_img,(win_xleft_low,win_y_low),(win_xleft_high,win_y_high),(0,255,0), 2) \n",
    "        #cv2.rectangle(out_img,(win_xright_low,win_y_low),(win_xright_high,win_y_high),(0,255,0), 2) \n",
    "        # Identify the nonzero pixels in x and y within the window\n",
    "        good_left_inds = ((nonzeroy >= win_y_low) & (nonzeroy < win_y_high) & (nonzerox >= win_xleft_low) & (nonzerox < win_xleft_high)).nonzero()[0]\n",
    "        good_right_inds = ((nonzeroy >= win_y_low) & (nonzeroy < win_y_high) & (nonzerox >= win_xright_low) & (nonzerox < win_xright_high)).nonzero()[0]\n",
    "        # Append these indices to the lists\n",
    "        left_lane_inds.append(good_left_inds)\n",
    "        right_lane_inds.append(good_right_inds)\n",
    "        # If you found > minpix pixels, recenter next window on their mean position\n",
    "        if len(good_left_inds) > minpix:\n",
    "            leftx_current = np.int(np.mean(nonzerox[good_left_inds]))\n",
    "        if len(good_right_inds) > minpix:        \n",
    "            rightx_current = np.int(np.mean(nonzerox[good_right_inds]))\n",
    "\n",
    "    # Concatenate the arrays of indices\n",
    "    left_lane_inds = np.concatenate(left_lane_inds)\n",
    "    right_lane_inds = np.concatenate(right_lane_inds)\n",
    "\n",
    "    # Extract left and right line pixel positions\n",
    "    leftx = nonzerox[left_lane_inds]\n",
    "    lefty = nonzeroy[left_lane_inds] \n",
    "    rightx = nonzerox[right_lane_inds]\n",
    "    righty = nonzeroy[right_lane_inds] \n",
    "\n",
    "    # Fit a second order polynomial to each\n",
    "    left_fit = np.polyfit(lefty, leftx, 2)\n",
    "    right_fit = np.polyfit(righty, rightx, 2)\n",
    "    \n",
    "    # Generate x and y values for plotting\n",
    "    ploty = np.linspace(0, binary_warped.shape[0]-1, binary_warped.shape[0] )\n",
    "    left_fitx = left_fit[0]*ploty**2 + left_fit[1]*ploty + left_fit[2]\n",
    "    right_fitx = right_fit[0]*ploty**2 + right_fit[1]*ploty + right_fit[2]\n",
    "\n",
    "    return leftx, rightx, lefty, righty, left_fit, right_fit, left_fitx, right_fitx\n",
    "\n"
   ]
  },
  {
   "cell_type": "code",
   "execution_count": 11,
   "metadata": {
    "collapsed": false
   },
   "outputs": [],
   "source": [
    "def ProcessSubsequantImages(binary_warped, left_fit, right_fit ):\n",
    "    # Assume you now have a new warped binary image \n",
    "    # from the next frame of video (also called \"binary_warped\")\n",
    "    # It's now much easier to find line pixels!\n",
    "    nonzero = binary_warped.nonzero()\n",
    "    nonzeroy = np.array(nonzero[0])\n",
    "    nonzerox = np.array(nonzero[1])\n",
    "    margin = 100\n",
    "    left_lane_inds = ((nonzerox > (left_fit[0]*(nonzeroy**2) + left_fit[1]*nonzeroy + left_fit[2] - margin)) & (nonzerox < (left_fit[0]*(nonzeroy**2) + left_fit[1]*nonzeroy + left_fit[2] + margin))) \n",
    "    right_lane_inds = ((nonzerox > (right_fit[0]*(nonzeroy**2) + right_fit[1]*nonzeroy + right_fit[2] - margin)) & (nonzerox < (right_fit[0]*(nonzeroy**2) + right_fit[1]*nonzeroy + right_fit[2] + margin)))  \n",
    "\n",
    "    # Again, extract left and right line pixel positions\n",
    "    leftx = nonzerox[left_lane_inds]\n",
    "    lefty = nonzeroy[left_lane_inds] \n",
    "    rightx = nonzerox[right_lane_inds]\n",
    "    righty = nonzeroy[right_lane_inds]\n",
    "    # Fit a second order polynomial to each\n",
    "    left_fit = np.polyfit(lefty, leftx, 2)\n",
    "    right_fit = np.polyfit(righty, rightx, 2)\n",
    "    # Generate x and y values for plotting\n",
    "    ploty = np.linspace(0, binary_warped.shape[0]-1, binary_warped.shape[0] )\n",
    "    left_fitx = left_fit[0]*ploty**2 + left_fit[1]*ploty + left_fit[2]\n",
    "    right_fitx = right_fit[0]*ploty**2 + right_fit[1]*ploty + right_fit[2]\n",
    "    return leftx, rightx, lefty, righty, left_fit, right_fit, left_fitx, right_fitx\n",
    "\n",
    "\n"
   ]
  },
  {
   "cell_type": "markdown",
   "metadata": {
    "collapsed": true
   },
   "source": [
    "Once we have the lanes identified, we need to measure the curvature"
   ]
  },
  {
   "cell_type": "markdown",
   "metadata": {
    "collapsed": true
   },
   "source": [
    "##### Determine the curve of the road"
   ]
  },
  {
   "cell_type": "code",
   "execution_count": 12,
   "metadata": {
    "collapsed": false
   },
   "outputs": [],
   "source": [
    "def DetermineCurve(left_fit, right_fit, leftx, rightx, lefty, righty, ploty):\n",
    "    ploty = np.linspace(0, 719, 720)\n",
    "    y_eval = np.max(ploty)\n",
    "    # Define conversions in x and y from pixels space to meters\n",
    "    ym_per_pix = 30/720 # meters per pixel in y dimension\n",
    "    xm_per_pix = 3.7/700 # meters per pixel in x dimension   \n",
    "    # Fit new polynomials to x,y in world space\n",
    "    left_fit_cr = np.polyfit(lefty*ym_per_pix, leftx*xm_per_pix, 2)\n",
    "    right_fit_cr = np.polyfit(righty*ym_per_pix, rightx*xm_per_pix, 2)\n",
    "    # Calculate the new radii of curvature\n",
    "    left_curverad = ((1 + (2*left_fit_cr[0]*y_eval*ym_per_pix + left_fit_cr[1])**2)**1.5) / np.absolute(2*left_fit_cr[0])\n",
    "    right_curverad = ((1 + (2*right_fit_cr[0]*y_eval*ym_per_pix + right_fit_cr[1])**2)**1.5) / np.absolute(2*right_fit_cr[0])\n",
    "    # Now our radius of curvature is in meters\n",
    "    #print(left_curverad, 'm', right_curverad, 'm')\n",
    "    center = (((left_fit[0]*720**2+left_fit[1]*720+left_fit[2]) +(right_fit[0]*720**2+right_fit[1]*720+right_fit[2]) ) /2 - 640)*xm_per_pix\n",
    "    center = round(center, 2)\n",
    "    return left_curverad,right_curverad, center\n",
    "    # Example values: 632.1 m    626.2 m"
   ]
  },
  {
   "cell_type": "markdown",
   "metadata": {},
   "source": [
    "##### Annotation functions\n",
    "\n",
    "Here we will draw the region on the image, and we will add annotations such as the curvature of the lines as well as the offset from center"
   ]
  },
  {
   "cell_type": "code",
   "execution_count": 13,
   "metadata": {
    "collapsed": false
   },
   "outputs": [],
   "source": [
    "def DrawRegion(imageIn, combinedWarpedIn, left_fitx, right_fitx, ploty, Minv):\n",
    "    # Create an image to draw the lines on\n",
    "    # workingWarped =  cv2.warpPerspective(imageIn, m, (imageIn.shape[1], imageIn.shape[0]), flags=cv2.INTER_LINEAR) \n",
    "    warp_zero = np.zeros_like(combinedWarpedIn).astype(np.uint8)\n",
    "    color_warp = np.dstack((warp_zero, warp_zero, warp_zero))\n",
    "\n",
    "    # Recast the x and y points into usable format for cv2.fillPoly()\n",
    "    pts_left = np.array([np.transpose(np.vstack([left_fitx, ploty]))])\n",
    "    pts_right = np.array([np.flipud(np.transpose(np.vstack([right_fitx, ploty])))])\n",
    "    pts = np.hstack((pts_left, pts_right))\n",
    "    #print(pts)\n",
    "    #print(len(pts[0]))\n",
    "    # Draw the lane onto the warped blank image\n",
    "    cv2.fillPoly(color_warp, np.int_([pts]), (0,255, 0))\n",
    "\n",
    "    # Warp the blank back to original image space using inverse perspective matrix (Minv)\n",
    "    newwarp = cv2.warpPerspective(color_warp, Minv, (imageIn.shape[1], imageIn.shape[0])) \n",
    "    return cv2.addWeighted(imageIn, 1, newwarp, 0.3, 0)"
   ]
  },
  {
   "cell_type": "code",
   "execution_count": 47,
   "metadata": {
    "collapsed": false
   },
   "outputs": [],
   "source": [
    "# this will add the text to the image\n",
    "def AnnotateImage(imageIn, leftCurve, rightCurve, center, warpedIn, combinedIn, similar):\n",
    "     #Write curvature and center in image\n",
    "    TextL = \"Left curve: \" + str(int(leftCurve)) + ' m'\n",
    "    TextR = \"Right curve: \" + str(int(rightCurve)) + ' m'\n",
    "    TextC = center + ' m'\n",
    "    fontScale=1\n",
    "    thickness=2    \n",
    "    imageIn[0:720,0:1280] = imageIn\n",
    "    #Warped\n",
    "    imageIn[0:240,0:426] =cv2.resize(warpedIn,(426,240))\n",
    "    #BinaryCombined\n",
    "    blank_image = np.zeros((240,426,3), np.uint8)\n",
    "    imageIn[0:240,854:1280] = blank_image\n",
    "    imageIn[0:240,854:1280, 2] =cv2.resize(combinedIn*255,(426,240))\n",
    "    fontFace = cv2.FONT_HERSHEY_COMPLEX\n",
    "    cv2.putText(imageIn, TextL, (426,40), fontFace, fontScale,(255,255,255), thickness,  lineType = cv2.LINE_AA)\n",
    "    cv2.putText(imageIn, TextR, (426,70), fontFace, fontScale,(255,255,255), thickness,  lineType = cv2.LINE_AA)\n",
    "    cv2.putText(imageIn, TextC, (426,100), fontFace, fontScale,(255,255,255), thickness,  lineType = cv2.LINE_AA)\n",
    "    # cv2.putText(imageIn, str(similar), (426,130), fontFace, fontScale,(255,255,255), thickness,  lineType = cv2.LINE_AA)\n",
    "    return imageIn\n",
    "\n"
   ]
  },
  {
   "cell_type": "markdown",
   "metadata": {},
   "source": [
    "##### Average and smooth the lines\n",
    "\n",
    "Here we will average the lines over the past 5 frames and if the lines are similar, we will average them out"
   ]
  },
  {
   "cell_type": "code",
   "execution_count": 15,
   "metadata": {
    "collapsed": false
   },
   "outputs": [],
   "source": [
    "#takes an average over the last 5 frames and determines an average so the lines are smoother\n",
    "\n",
    "def SmoothLines_old(leftFitX, rightFitX):    \n",
    "    # Perform the sanity check\n",
    "    leftAverage = leftFitX\n",
    "    rightAverage = rightFitX\n",
    "    \"\"\"    \n",
    "    left_fitAverage = left_fit\n",
    "    right_fitAverage = right_fit\n",
    "    leftxAverage = leftx\n",
    "    rightxAverage = rightx\n",
    "    leftyAverage  = lefty\n",
    "    rightyAverage  =righty\n",
    "    plotyAverage =ploty\n",
    "    \"\"\"\n",
    "    similar = len(leftFitXCollection) \n",
    "    if len(leftFitXCollection) > 1:\n",
    "        smiliar = 'Coll > 1'\n",
    "        if DetermineIfSimilar(leftFitXCollection[len(leftFitXCollection) - 1]):\n",
    "            smiliar = 'yes'\n",
    "            # if the collection has more than 10 entries, we want to remove the first one [0]\n",
    "            if len(leftFitXCollection) >= 5:\n",
    "                #print(\"over 5... removing\")\n",
    "                lastLeft = leftFitXCollection[0]\n",
    "                lastRight = rightFitXCollection[0]\n",
    "                leftFitXCollection.remove(lastLeft)\n",
    "                rightFitXCollection.remove(lastRight)  \n",
    "    #append the new value and \n",
    "    leftFitXCollection.append(leftFitX)\n",
    "    rightFitXCollection.append(rightFitX)\n",
    "    leftAverage = sum(leftFitXCollection)/len(leftFitXCollection)\n",
    "    rightAverage = sum(rightFitXCollection)/len(rightFitXCollection)\n",
    "    return leftAverage, rightAverage, similar"
   ]
  },
  {
   "cell_type": "code",
   "execution_count": 16,
   "metadata": {
    "collapsed": false
   },
   "outputs": [],
   "source": [
    "# this will be the logic to determine if the lines are near the average (Sanity Check)\n",
    "def DetermineIfSimilar(oldLeftCurverad,  newLeftCurverad ):\n",
    "    if oldLeftCurverad ==0:\n",
    "        result = False\n",
    "    if np.abs(oldLeftCurverad) - np.abs(newLeftCurverad) >= 200:\n",
    "        result = True\n",
    "    else:\n",
    "        result = False\n",
    "    return result\n"
   ]
  },
  {
   "cell_type": "code",
   "execution_count": 17,
   "metadata": {
    "collapsed": true
   },
   "outputs": [],
   "source": [
    "def SmoothLines(leftCurve, rightCurve, leftX, rightX): \n",
    "    leftAverage = leftCurve\n",
    "    rightAverage = rightCurve\n",
    "    global leftCurveCollection\n",
    "    global rightCurveCollection\n",
    "    global lastOffLeft\n",
    "    global lastOffRight\n",
    "    global count\n",
    "    similar = 'No Data'\n",
    "    if (len(leftCurveCollection) > 1):\n",
    "        similar = len(leftCurveCollection)\n",
    "        if not DetermineIfSimilar(leftCurveCollection[len(leftCurveCollection) - 1], leftAverage):\n",
    "            smiliar = 'no'\n",
    "            # if they are not similar, then we need to compare with the last 'off' values, could be we are picking up a new line\n",
    "            if DetermineIfSimilar(lastOffLeft, leftCurve):\n",
    "                leftCurveCollection = []\n",
    "                rightCurveCollection = []\n",
    "                count = 0\n",
    "            #if the are not similar, then we need to add it to the last off left.\n",
    "            else:\n",
    "                lastOffLeft = leftCurve\n",
    "                lastOffRight = rightCurve\n",
    "            # if the collection has more than 10 entries, we want to remove the first one [0]\n",
    "            if len(leftCurveCollection) >= 10:\n",
    "                #print(\"over 10... removing\")\n",
    "                leftCurveCollection.remove(leftCurveCollection[0])\n",
    "                rightCurveCollection.remove(rightCurveCollection[0])\n",
    "            #append the new value and            \n",
    "    # final check, if the separation between the lines is not 4 meters +/- 1 meters, then reset and find again\n",
    "    diff = leftX[0] - rightX[0]\n",
    "    xm_per_pix = 3.7/700\n",
    "    laneWidth = diff*xm_per_pix\n",
    "    if laneWidth < 3 and laneWidth > 5:\n",
    "        similar = 'RESET!!!!!!' + str(laneWidth)\n",
    "        leftCurveCollection = []\n",
    "        rightCurveCollection = []\n",
    "        count = 0        \n",
    "    leftCurveCollection.append(leftCurve)\n",
    "    rightCurveCollection.append(rightCurve)   \n",
    "    if (len(leftCurveCollection) >= 1):\n",
    "        leftAverage = sum(leftCurveCollection)/len(leftCurveCollection)\n",
    "        rightAverage = sum(rightCurveCollection)/len(rightCurveCollection)\n",
    "    return leftAverage, rightAverage, similar\n",
    "        \n",
    "    \n",
    "    "
   ]
  },
  {
   "cell_type": "markdown",
   "metadata": {
    "collapsed": true
   },
   "source": [
    "## WORKING PIPELINE"
   ]
  },
  {
   "cell_type": "code",
   "execution_count": 32,
   "metadata": {
    "collapsed": false
   },
   "outputs": [
    {
     "name": "stdout",
     "output_type": "stream",
     "text": [
      "Found Pickle File\n"
     ]
    }
   ],
   "source": [
    "left_fit = 0\n",
    "right_fit = 0\n",
    "global count\n",
    "count = 0 \n",
    "mtx = 0\n",
    "dist = 0\n",
    "\n",
    "\n",
    "calCheck = Path(\"./calibration_pickle.p\")\n",
    "if calCheck.is_file():\n",
    "    print(\"Found Pickle File\")\n",
    "    dist_pickle = pickle.load(open(\"./calibration_pickle.p\", \"rb\"))\n",
    "    mtx = dist_pickle[\"mtx\"]\n",
    "    dist = dist_pickle[\"dist\"]\n",
    "else: \n",
    "    print(\"No Pickle file found, starting camera calibration\")\n",
    "    mtx, dist = CalibrateCamera((9,6))\n",
    "    \n"
   ]
  },
  {
   "cell_type": "code",
   "execution_count": 48,
   "metadata": {
    "collapsed": false
   },
   "outputs": [],
   "source": [
    "\n",
    "\n",
    "\n",
    "# used to hold a collection so we can average it out\n",
    "global leftCurveCollection\n",
    "global rightCurveCollection\n",
    "leftCurveCollection = []\n",
    "rightCurveCollection = []\n",
    "global lastOffLeft\n",
    "global lastOffRight\n",
    "lastOffLeft = 0\n",
    "lastOffRight = 0\n",
    "def RunPipeline(image):\n",
    "    global count\n",
    "    global left_fit\n",
    "    global right_fit\n",
    "    #print(count)\n",
    "    img_size = (image.shape[1], image.shape[0]) \n",
    "    # undistort the image using the calibrated values\n",
    "    undistortedImage = Undistort(image, mtx, dist )\n",
    "    m, Minv = GetWarpImageData(img_size)\n",
    "    # warp the image into an overhead view\n",
    "    warped = cv2.warpPerspective(undistortedImage, m, img_size, flags=cv2.INTER_LINEAR) \n",
    "    # work with the S channel\n",
    "    hlsImage = cv2.cvtColor(warped,cv2.COLOR_RGB2HLS)\n",
    "    S = hlsImage[:,:,2]\n",
    "    \n",
    "    # perform the gradient and threshold work and get a binary image\n",
    "    combined = ProcessImage(S)\n",
    "    leftx, rightx, lefty, righty, left_fit, right_fit, left_fitx, right_fitx = FindLinesInIntialImage(combined)\n",
    "    #if this is the first image through, then we are on the first image.\n",
    "    \"\"\"\n",
    "    if count < 1:\n",
    "        print(\"firstImage\")\n",
    "        leftx, rightx, lefty, righty, left_fit, right_fit, left_fitx, right_fitx = FindLinesInIntialImage(combined)\n",
    "    else:\n",
    "        leftx, rightx, lefty, righty, left_fit, right_fit, left_fitx, right_fitx = ProcessSubsequantImages(combined, left_fit, right_fit)\n",
    "        # this will smooth out the lines over the last 5 frames\n",
    "   \"\"\"\n",
    "    ploty = np.linspace(0, combined.shape[0]-1, combined.shape[0] )     \n",
    "    \n",
    "    # Deterimne the radius of the curve\n",
    "    left_curve, right_curve, center = DetermineCurve(left_fit, right_fit, leftx, rightx, lefty, righty, ploty)\n",
    "      \n",
    "    left_curve, right_curve, similar = SmoothLines(left_curve, right_curve,leftx, rightx) \n",
    "\n",
    "    # Tell how far left or right of center the vehicle is\n",
    "    if center < 0:\n",
    "        center = \"left of center: \" + str(np.abs(center))\n",
    "    else: \n",
    "        center = \"right of center: \" + str(np.abs(center))\n",
    "        \n",
    "    # Draw the region on the image.\n",
    "    finalImage = DrawRegion(image, combined, left_fitx, right_fitx, ploty, Minv)\n",
    "    finalImage = AnnotateImage(finalImage, left_curve, right_curve, center, warped, combined, similar)\n",
    "    count +=1\n",
    "    return finalImage\n",
    "    #plt.imshow(finalImage, cmap='gray')\n",
    "    #print(left_curve, right_curve, center, count)\n"
   ]
  },
  {
   "cell_type": "code",
   "execution_count": 49,
   "metadata": {
    "collapsed": false
   },
   "outputs": [
    {
     "data": {
      "text/plain": [
       "<matplotlib.image.AxesImage at 0x1e58002a908>"
      ]
     },
     "execution_count": 49,
     "metadata": {},
     "output_type": "execute_result"
    },
    {
     "data": {
      "image/png": "[encoded data removed]",
      "text/plain": [
       "<matplotlib.figure.Figure at 0x1e5805b2208>"
      ]
     },
     "metadata": {},
     "output_type": "display_data"
    }
   ],
   "source": [
    "image = mpimg.imread(\"trimmed_Moment.jpg\")\n",
    "\n",
    "result = RunPipeline(image)\n",
    "plt.imshow(result)"
   ]
  },
  {
   "cell_type": "code",
   "execution_count": 37,
   "metadata": {
    "collapsed": false
   },
   "outputs": [
    {
     "ename": "NameError",
     "evalue": "name 'processImage' is not defined",
     "output_type": "error",
     "traceback": [
      "\u001b[0;31m---------------------------------------------------------------------------\u001b[0m",
      "\u001b[0;31mNameError\u001b[0m                                 Traceback (most recent call last)",
      "\u001b[0;32m<ipython-input-37-f7e131b72116>\u001b[0m in \u001b[0;36m<module>\u001b[0;34m()\u001b[0m\n\u001b[1;32m      1\u001b[0m \u001b[0moutput\u001b[0m \u001b[1;33m=\u001b[0m \u001b[1;34m'test_out.mp4'\u001b[0m\u001b[1;33m\u001b[0m\u001b[0m\n\u001b[1;32m      2\u001b[0m \u001b[0mclip1\u001b[0m \u001b[1;33m=\u001b[0m \u001b[0mVideoFileClip\u001b[0m\u001b[1;33m(\u001b[0m\u001b[1;34m\"trimmed2.mp4\"\u001b[0m\u001b[1;33m)\u001b[0m\u001b[1;33m\u001b[0m\u001b[0m\n\u001b[0;32m----> 3\u001b[0;31m \u001b[0mclip\u001b[0m \u001b[1;33m=\u001b[0m \u001b[0mclip1\u001b[0m\u001b[1;33m.\u001b[0m\u001b[0mfl_image\u001b[0m\u001b[1;33m(\u001b[0m\u001b[0mRunPipeline\u001b[0m\u001b[1;33m)\u001b[0m \u001b[1;31m#NOTE: this function expects color images!!\u001b[0m\u001b[1;33m\u001b[0m\u001b[0m\n\u001b[0m\u001b[1;32m      4\u001b[0m \u001b[0mget_ipython\u001b[0m\u001b[1;33m(\u001b[0m\u001b[1;33m)\u001b[0m\u001b[1;33m.\u001b[0m\u001b[0mmagic\u001b[0m\u001b[1;33m(\u001b[0m\u001b[1;34m'time clip.write_videofile(output, audio=False)'\u001b[0m\u001b[1;33m)\u001b[0m\u001b[1;33m\u001b[0m\u001b[0m\n\u001b[1;32m      5\u001b[0m HTML(\"\"\"\n",
      "\u001b[0;32mC:\\Program Files\\Anaconda3\\envs\\python3\\lib\\site-packages\\moviepy\\video\\VideoClip.py\u001b[0m in \u001b[0;36mfl_image\u001b[0;34m(self, image_func, apply_to)\u001b[0m\n\u001b[1;32m    512\u001b[0m         \u001b[0;31m`\u001b[0m\u001b[0mget_frame\u001b[0m\u001b[1;33m(\u001b[0m\u001b[0mt\u001b[0m\u001b[1;33m)\u001b[0m\u001b[0;31m`\u001b[0m \u001b[0mby\u001b[0m \u001b[0manother\u001b[0m \u001b[0mframe\u001b[0m\u001b[1;33m,\u001b[0m\u001b[0;31m \u001b[0m\u001b[0;31m \u001b[0m\u001b[0;31m`\u001b[0m\u001b[0mimage_func\u001b[0m\u001b[1;33m(\u001b[0m\u001b[0mget_frame\u001b[0m\u001b[1;33m(\u001b[0m\u001b[0mt\u001b[0m\u001b[1;33m)\u001b[0m\u001b[1;33m)\u001b[0m\u001b[0;31m`\u001b[0m\u001b[1;33m\u001b[0m\u001b[0m\n\u001b[1;32m    513\u001b[0m         \"\"\"\n\u001b[0;32m--> 514\u001b[0;31m         \u001b[1;32mreturn\u001b[0m \u001b[0mself\u001b[0m\u001b[1;33m.\u001b[0m\u001b[0mfl\u001b[0m\u001b[1;33m(\u001b[0m\u001b[1;32mlambda\u001b[0m \u001b[0mgf\u001b[0m\u001b[1;33m,\u001b[0m \u001b[0mt\u001b[0m\u001b[1;33m:\u001b[0m \u001b[0mimage_func\u001b[0m\u001b[1;33m(\u001b[0m\u001b[0mgf\u001b[0m\u001b[1;33m(\u001b[0m\u001b[0mt\u001b[0m\u001b[1;33m)\u001b[0m\u001b[1;33m)\u001b[0m\u001b[1;33m,\u001b[0m \u001b[0mapply_to\u001b[0m\u001b[1;33m)\u001b[0m\u001b[1;33m\u001b[0m\u001b[0m\n\u001b[0m\u001b[1;32m    515\u001b[0m \u001b[1;33m\u001b[0m\u001b[0m\n\u001b[1;32m    516\u001b[0m     \u001b[1;31m# --------------------------------------------------------------\u001b[0m\u001b[1;33m\u001b[0m\u001b[1;33m\u001b[0m\u001b[0m\n",
      "\u001b[0;32mC:\\Program Files\\Anaconda3\\envs\\python3\\lib\\site-packages\\moviepy\\Clip.py\u001b[0m in \u001b[0;36mfl\u001b[0;34m(self, fun, apply_to, keep_duration)\u001b[0m\n\u001b[1;32m    134\u001b[0m \u001b[1;33m\u001b[0m\u001b[0m\n\u001b[1;32m    135\u001b[0m         \u001b[1;31m#mf = copy(self.make_frame)\u001b[0m\u001b[1;33m\u001b[0m\u001b[1;33m\u001b[0m\u001b[0m\n\u001b[0;32m--> 136\u001b[0;31m         \u001b[0mnewclip\u001b[0m \u001b[1;33m=\u001b[0m \u001b[0mself\u001b[0m\u001b[1;33m.\u001b[0m\u001b[0mset_make_frame\u001b[0m\u001b[1;33m(\u001b[0m\u001b[1;32mlambda\u001b[0m \u001b[0mt\u001b[0m\u001b[1;33m:\u001b[0m \u001b[0mfun\u001b[0m\u001b[1;33m(\u001b[0m\u001b[0mself\u001b[0m\u001b[1;33m.\u001b[0m\u001b[0mget_frame\u001b[0m\u001b[1;33m,\u001b[0m \u001b[0mt\u001b[0m\u001b[1;33m)\u001b[0m\u001b[1;33m)\u001b[0m\u001b[1;33m\u001b[0m\u001b[0m\n\u001b[0m\u001b[1;32m    137\u001b[0m \u001b[1;33m\u001b[0m\u001b[0m\n\u001b[1;32m    138\u001b[0m         \u001b[1;32mif\u001b[0m \u001b[1;32mnot\u001b[0m \u001b[0mkeep_duration\u001b[0m\u001b[1;33m:\u001b[0m\u001b[1;33m\u001b[0m\u001b[0m\n",
      "\u001b[0;32m<decorator-gen-179>\u001b[0m in \u001b[0;36mset_make_frame\u001b[0;34m(self, mf)\u001b[0m\n",
      "\u001b[0;32mC:\\Program Files\\Anaconda3\\envs\\python3\\lib\\site-packages\\moviepy\\decorators.py\u001b[0m in \u001b[0;36moutplace\u001b[0;34m(f, clip, *a, **k)\u001b[0m\n\u001b[1;32m     12\u001b[0m     \u001b[1;34m\"\"\" Applies f(clip.copy(), *a, **k) and returns clip.copy()\"\"\"\u001b[0m\u001b[1;33m\u001b[0m\u001b[0m\n\u001b[1;32m     13\u001b[0m     \u001b[0mnewclip\u001b[0m \u001b[1;33m=\u001b[0m \u001b[0mclip\u001b[0m\u001b[1;33m.\u001b[0m\u001b[0mcopy\u001b[0m\u001b[1;33m(\u001b[0m\u001b[1;33m)\u001b[0m\u001b[1;33m\u001b[0m\u001b[0m\n\u001b[0;32m---> 14\u001b[0;31m     \u001b[0mf\u001b[0m\u001b[1;33m(\u001b[0m\u001b[0mnewclip\u001b[0m\u001b[1;33m,\u001b[0m \u001b[1;33m*\u001b[0m\u001b[0ma\u001b[0m\u001b[1;33m,\u001b[0m \u001b[1;33m**\u001b[0m\u001b[0mk\u001b[0m\u001b[1;33m)\u001b[0m\u001b[1;33m\u001b[0m\u001b[0m\n\u001b[0m\u001b[1;32m     15\u001b[0m     \u001b[1;32mreturn\u001b[0m \u001b[0mnewclip\u001b[0m\u001b[1;33m\u001b[0m\u001b[0m\n\u001b[1;32m     16\u001b[0m \u001b[1;33m\u001b[0m\u001b[0m\n",
      "\u001b[0;32mC:\\Program Files\\Anaconda3\\envs\\python3\\lib\\site-packages\\moviepy\\video\\VideoClip.py\u001b[0m in \u001b[0;36mset_make_frame\u001b[0;34m(self, mf)\u001b[0m\n\u001b[1;32m    652\u001b[0m         \"\"\"\n\u001b[1;32m    653\u001b[0m         \u001b[0mself\u001b[0m\u001b[1;33m.\u001b[0m\u001b[0mmake_frame\u001b[0m \u001b[1;33m=\u001b[0m \u001b[0mmf\u001b[0m\u001b[1;33m\u001b[0m\u001b[0m\n\u001b[0;32m--> 654\u001b[0;31m         \u001b[0mself\u001b[0m\u001b[1;33m.\u001b[0m\u001b[0msize\u001b[0m \u001b[1;33m=\u001b[0m \u001b[0mself\u001b[0m\u001b[1;33m.\u001b[0m\u001b[0mget_frame\u001b[0m\u001b[1;33m(\u001b[0m\u001b[1;36m0\u001b[0m\u001b[1;33m)\u001b[0m\u001b[1;33m.\u001b[0m\u001b[0mshape\u001b[0m\u001b[1;33m[\u001b[0m\u001b[1;33m:\u001b[0m\u001b[1;36m2\u001b[0m\u001b[1;33m]\u001b[0m\u001b[1;33m[\u001b[0m\u001b[1;33m:\u001b[0m\u001b[1;33m:\u001b[0m\u001b[1;33m-\u001b[0m\u001b[1;36m1\u001b[0m\u001b[1;33m]\u001b[0m\u001b[1;33m\u001b[0m\u001b[0m\n\u001b[0m\u001b[1;32m    655\u001b[0m \u001b[1;33m\u001b[0m\u001b[0m\n\u001b[1;32m    656\u001b[0m \u001b[1;33m\u001b[0m\u001b[0m\n",
      "\u001b[0;32m<decorator-gen-136>\u001b[0m in \u001b[0;36mget_frame\u001b[0;34m(self, t)\u001b[0m\n",
      "\u001b[0;32mC:\\Program Files\\Anaconda3\\envs\\python3\\lib\\site-packages\\moviepy\\decorators.py\u001b[0m in \u001b[0;36mwrapper\u001b[0;34m(f, *a, **kw)\u001b[0m\n\u001b[1;32m     87\u001b[0m         new_kw = {k: fun(v) if k in varnames else v\n\u001b[1;32m     88\u001b[0m                  for (k,v) in kw.items()}\n\u001b[0;32m---> 89\u001b[0;31m         \u001b[1;32mreturn\u001b[0m \u001b[0mf\u001b[0m\u001b[1;33m(\u001b[0m\u001b[1;33m*\u001b[0m\u001b[0mnew_a\u001b[0m\u001b[1;33m,\u001b[0m \u001b[1;33m**\u001b[0m\u001b[0mnew_kw\u001b[0m\u001b[1;33m)\u001b[0m\u001b[1;33m\u001b[0m\u001b[0m\n\u001b[0m\u001b[1;32m     90\u001b[0m     \u001b[1;32mreturn\u001b[0m \u001b[0mdecorator\u001b[0m\u001b[1;33m.\u001b[0m\u001b[0mdecorator\u001b[0m\u001b[1;33m(\u001b[0m\u001b[0mwrapper\u001b[0m\u001b[1;33m)\u001b[0m\u001b[1;33m\u001b[0m\u001b[0m\n\u001b[1;32m     91\u001b[0m \u001b[1;33m\u001b[0m\u001b[0m\n",
      "\u001b[0;32mC:\\Program Files\\Anaconda3\\envs\\python3\\lib\\site-packages\\moviepy\\Clip.py\u001b[0m in \u001b[0;36mget_frame\u001b[0;34m(self, t)\u001b[0m\n\u001b[1;32m     93\u001b[0m                 \u001b[1;32mreturn\u001b[0m \u001b[0mframe\u001b[0m\u001b[1;33m\u001b[0m\u001b[0m\n\u001b[1;32m     94\u001b[0m         \u001b[1;32melse\u001b[0m\u001b[1;33m:\u001b[0m\u001b[1;33m\u001b[0m\u001b[0m\n\u001b[0;32m---> 95\u001b[0;31m             \u001b[1;32mreturn\u001b[0m \u001b[0mself\u001b[0m\u001b[1;33m.\u001b[0m\u001b[0mmake_frame\u001b[0m\u001b[1;33m(\u001b[0m\u001b[0mt\u001b[0m\u001b[1;33m)\u001b[0m\u001b[1;33m\u001b[0m\u001b[0m\n\u001b[0m\u001b[1;32m     96\u001b[0m \u001b[1;33m\u001b[0m\u001b[0m\n\u001b[1;32m     97\u001b[0m     \u001b[1;32mdef\u001b[0m \u001b[0mfl\u001b[0m\u001b[1;33m(\u001b[0m\u001b[0mself\u001b[0m\u001b[1;33m,\u001b[0m \u001b[0mfun\u001b[0m\u001b[1;33m,\u001b[0m \u001b[0mapply_to\u001b[0m\u001b[1;33m=\u001b[0m\u001b[1;33m[\u001b[0m\u001b[1;33m]\u001b[0m \u001b[1;33m,\u001b[0m \u001b[0mkeep_duration\u001b[0m\u001b[1;33m=\u001b[0m\u001b[1;32mTrue\u001b[0m\u001b[1;33m)\u001b[0m\u001b[1;33m:\u001b[0m\u001b[1;33m\u001b[0m\u001b[0m\n",
      "\u001b[0;32mC:\\Program Files\\Anaconda3\\envs\\python3\\lib\\site-packages\\moviepy\\Clip.py\u001b[0m in \u001b[0;36m<lambda>\u001b[0;34m(t)\u001b[0m\n\u001b[1;32m    134\u001b[0m \u001b[1;33m\u001b[0m\u001b[0m\n\u001b[1;32m    135\u001b[0m         \u001b[1;31m#mf = copy(self.make_frame)\u001b[0m\u001b[1;33m\u001b[0m\u001b[1;33m\u001b[0m\u001b[0m\n\u001b[0;32m--> 136\u001b[0;31m         \u001b[0mnewclip\u001b[0m \u001b[1;33m=\u001b[0m \u001b[0mself\u001b[0m\u001b[1;33m.\u001b[0m\u001b[0mset_make_frame\u001b[0m\u001b[1;33m(\u001b[0m\u001b[1;32mlambda\u001b[0m \u001b[0mt\u001b[0m\u001b[1;33m:\u001b[0m \u001b[0mfun\u001b[0m\u001b[1;33m(\u001b[0m\u001b[0mself\u001b[0m\u001b[1;33m.\u001b[0m\u001b[0mget_frame\u001b[0m\u001b[1;33m,\u001b[0m \u001b[0mt\u001b[0m\u001b[1;33m)\u001b[0m\u001b[1;33m)\u001b[0m\u001b[1;33m\u001b[0m\u001b[0m\n\u001b[0m\u001b[1;32m    137\u001b[0m \u001b[1;33m\u001b[0m\u001b[0m\n\u001b[1;32m    138\u001b[0m         \u001b[1;32mif\u001b[0m \u001b[1;32mnot\u001b[0m \u001b[0mkeep_duration\u001b[0m\u001b[1;33m:\u001b[0m\u001b[1;33m\u001b[0m\u001b[0m\n",
      "\u001b[0;32mC:\\Program Files\\Anaconda3\\envs\\python3\\lib\\site-packages\\moviepy\\video\\VideoClip.py\u001b[0m in \u001b[0;36m<lambda>\u001b[0;34m(gf, t)\u001b[0m\n\u001b[1;32m    512\u001b[0m         \u001b[0;31m`\u001b[0m\u001b[0mget_frame\u001b[0m\u001b[1;33m(\u001b[0m\u001b[0mt\u001b[0m\u001b[1;33m)\u001b[0m\u001b[0;31m`\u001b[0m \u001b[0mby\u001b[0m \u001b[0manother\u001b[0m \u001b[0mframe\u001b[0m\u001b[1;33m,\u001b[0m\u001b[0;31m \u001b[0m\u001b[0;31m \u001b[0m\u001b[0;31m`\u001b[0m\u001b[0mimage_func\u001b[0m\u001b[1;33m(\u001b[0m\u001b[0mget_frame\u001b[0m\u001b[1;33m(\u001b[0m\u001b[0mt\u001b[0m\u001b[1;33m)\u001b[0m\u001b[1;33m)\u001b[0m\u001b[0;31m`\u001b[0m\u001b[1;33m\u001b[0m\u001b[0m\n\u001b[1;32m    513\u001b[0m         \"\"\"\n\u001b[0;32m--> 514\u001b[0;31m         \u001b[1;32mreturn\u001b[0m \u001b[0mself\u001b[0m\u001b[1;33m.\u001b[0m\u001b[0mfl\u001b[0m\u001b[1;33m(\u001b[0m\u001b[1;32mlambda\u001b[0m \u001b[0mgf\u001b[0m\u001b[1;33m,\u001b[0m \u001b[0mt\u001b[0m\u001b[1;33m:\u001b[0m \u001b[0mimage_func\u001b[0m\u001b[1;33m(\u001b[0m\u001b[0mgf\u001b[0m\u001b[1;33m(\u001b[0m\u001b[0mt\u001b[0m\u001b[1;33m)\u001b[0m\u001b[1;33m)\u001b[0m\u001b[1;33m,\u001b[0m \u001b[0mapply_to\u001b[0m\u001b[1;33m)\u001b[0m\u001b[1;33m\u001b[0m\u001b[0m\n\u001b[0m\u001b[1;32m    515\u001b[0m \u001b[1;33m\u001b[0m\u001b[0m\n\u001b[1;32m    516\u001b[0m     \u001b[1;31m# --------------------------------------------------------------\u001b[0m\u001b[1;33m\u001b[0m\u001b[1;33m\u001b[0m\u001b[0m\n",
      "\u001b[0;32m<ipython-input-36-d5eb3bcc2af4>\u001b[0m in \u001b[0;36mRunPipeline\u001b[0;34m(image)\u001b[0m\n\u001b[1;32m     28\u001b[0m     \u001b[1;31m# perform the gradient and threshold work and get a binary image\u001b[0m\u001b[1;33m\u001b[0m\u001b[1;33m\u001b[0m\u001b[0m\n\u001b[1;32m     29\u001b[0m     \u001b[0mcombined\u001b[0m \u001b[1;33m=\u001b[0m \u001b[0mProcessImage\u001b[0m\u001b[1;33m(\u001b[0m\u001b[0mS\u001b[0m\u001b[1;33m)\u001b[0m\u001b[1;33m\u001b[0m\u001b[0m\n\u001b[0;32m---> 30\u001b[0;31m     \u001b[0mbinaryFull\u001b[0m \u001b[1;33m=\u001b[0m \u001b[0mprocessImage\u001b[0m\u001b[1;33m(\u001b[0m\u001b[0mundistortedImage\u001b[0m\u001b[1;33m)\u001b[0m\u001b[1;33m\u001b[0m\u001b[0m\n\u001b[0m\u001b[1;32m     31\u001b[0m     \u001b[0mleftx\u001b[0m\u001b[1;33m,\u001b[0m \u001b[0mrightx\u001b[0m\u001b[1;33m,\u001b[0m \u001b[0mlefty\u001b[0m\u001b[1;33m,\u001b[0m \u001b[0mrighty\u001b[0m\u001b[1;33m,\u001b[0m \u001b[0mleft_fit\u001b[0m\u001b[1;33m,\u001b[0m \u001b[0mright_fit\u001b[0m\u001b[1;33m,\u001b[0m \u001b[0mleft_fitx\u001b[0m\u001b[1;33m,\u001b[0m \u001b[0mright_fitx\u001b[0m \u001b[1;33m=\u001b[0m \u001b[0mFindLinesInIntialImage\u001b[0m\u001b[1;33m(\u001b[0m\u001b[0mcombined\u001b[0m\u001b[1;33m)\u001b[0m\u001b[1;33m\u001b[0m\u001b[0m\n\u001b[1;32m     32\u001b[0m     \u001b[1;31m#if this is the first image through, then we are on the first image.\u001b[0m\u001b[1;33m\u001b[0m\u001b[1;33m\u001b[0m\u001b[0m\n",
      "\u001b[0;31mNameError\u001b[0m: name 'processImage' is not defined"
     ]
    }
   ],
   "source": [
    "    output = 'test_out.mp4'\n",
    "    clip1 = VideoFileClip(\"trimmed2.mp4\")\n",
    "    clip = clip1.fl_image(RunPipeline) #NOTE: this function expects color images!!\n",
    "    %time clip.write_videofile(output, audio=False)\n",
    "    HTML(\"\"\"\n",
    "    <video width=\"960\" height=\"540\" controls>\n",
    "      <source src=\"{0}\">\n",
    "    </video>\n",
    "    \"\"\".format(output))"
   ]
  },
  {
   "cell_type": "markdown",
   "metadata": {},
   "source": [
    "## Visualization of parameters and images"
   ]
  },
  {
   "cell_type": "code",
   "execution_count": null,
   "metadata": {
    "collapsed": false
   },
   "outputs": [],
   "source": [
    "testImage = mpimg.imread(\"trimmed_Moment.jpg\")\n",
    "# Plot the result\n",
    "f, (ax1) = plt.subplots(1, 1, figsize=(24, 9))\n",
    "f.tight_layout()\n",
    "\n",
    "ax1.imshow(testImage)\n",
    "ax1.set_title('Original Image', fontsize=24)"
   ]
  },
  {
   "cell_type": "code",
   "execution_count": null,
   "metadata": {
    "collapsed": false,
    "scrolled": false
   },
   "outputs": [],
   "source": [
    "# Visualize a sample of the undistorted images\n",
    "undistortedImages = []\n",
    "names=[]\n",
    "images = glob.glob(\"camera_cal/calibration*.jpg\")\n",
    "chessboardCount = (9,6)\n",
    "mtx, dist = CalibrateCamera(chessboardCount)\n",
    "for imagePath in images: \n",
    "    workingImage = mpimg.imread(imagePath)\n",
    "    dst = cv2.undistort(workingImage, mtx, dist, None, mtx)\n",
    "    undistortedImages.append(dst)\n",
    "    names.append(imagePath)\n",
    "print(len(undistortedImages))\n",
    "f, (ax1, ax2, ax3, ax4) = plt.subplots(4, 1, figsize=(24, 9))\n",
    "f.tight_layout()\n",
    "\n",
    "ax1.imshow(undistortedImages[0])\n",
    "ax1.set_title(names[0], fontsize=18)\n",
    "\n",
    "ax2.imshow(undistortedImages[5])\n",
    "ax2.set_title(names[5], fontsize=18)\n",
    "\n",
    "ax3.imshow(undistortedImages[17])\n",
    "ax3.set_title(names[17], fontsize=18)\n",
    "\n",
    "ax4.imshow(undistortedImages[19])\n",
    "ax4.set_title(names[19], fontsize=18)\n",
    "\n",
    "plt.subplots_adjust(left=0., right=1, top=0.9, bottom=0.)"
   ]
  },
  {
   "cell_type": "code",
   "execution_count": null,
   "metadata": {
    "collapsed": false
   },
   "outputs": [],
   "source": [
    "# visualize the undistorted image\n",
    "chessboardCount = (9,5)\n",
    "mtx, dist = CalibrateCamera(chessboardCount)\n",
    "undistortedImageTest = Undistort(testImage, mtx, dist )\n",
    "\n",
    "f, (ax1, ax2) = plt.subplots(1, 2, figsize=(12, 4.5))\n",
    "f.tight_layout()\n",
    "\n",
    "ax1.imshow(testImage)\n",
    "ax1.set_title(\"Original Image\", fontsize=24)\n",
    "\n",
    "ax2.imshow(undistortedImageTest)\n",
    "ax2.set_title(\"Undistorted Image\", fontsize=24)"
   ]
  },
  {
   "cell_type": "code",
   "execution_count": null,
   "metadata": {
    "collapsed": false
   },
   "outputs": [],
   "source": [
    "\n",
    "img_size = (undistortedImageTest.shape[1], undistortedImageTest.shape[0])   \n",
    "m, Minv = GetWarpImageData(img_size)\n",
    "\n",
    "f, (ax1, ax2, ax3) = plt.subplots(3, 1, figsize=(24,9))\n",
    "f.tight_layout()\n",
    "\n",
    "ax1.imshow(undistortedImageTest)\n",
    "ax1.set_title(\"Original\", fontsize=24)\n",
    "ax1.plot(588, 446,'X')\n",
    "ax1.plot(691, 446,'X')\n",
    "ax1.plot(153, 673,'X')\n",
    "ax1.plot(1126, 673,'X')\n",
    "\n",
    "\n",
    "warpedTest = cv2.warpPerspective(undistortedImageTest, m, img_size, flags=cv2.INTER_LINEAR) \n",
    "ax2.imshow(warpedTest)\n",
    "ax2.set_title(\"Warped\", fontsize=24)\n",
    "ax2.plot(320, 0,'X')\n",
    "ax2.plot(960, 0,'X')\n",
    "ax2.plot(320, 720,'X')\n",
    "ax2.plot(960, 720,'X')\n",
    "\n",
    "unWarp = cv2.warpPerspective(warpedTest, Minv, img_size, flags=cv2.INTER_LINEAR) \n",
    "ax3.imshow(unWarp)\n",
    "ax3.set_title(\"UnWarped\", fontsize=24)\n",
    "\n",
    "plt.subplots_adjust(left=0., right=1, top=0.9, bottom=0.)"
   ]
  },
  {
   "cell_type": "code",
   "execution_count": null,
   "metadata": {
    "collapsed": true
   },
   "outputs": [],
   "source": []
  },
  {
   "cell_type": "code",
   "execution_count": null,
   "metadata": {
    "collapsed": false
   },
   "outputs": [],
   "source": [
    "#Visualize a processed binary image\n",
    "#convert the image to HLS, and use the S channel.\n",
    "hlsImage = cv2.cvtColor(warpedTest,cv2.COLOR_RGB2HLS)\n",
    "S = hlsImage[:,:,2]\n",
    "combinedTest = ProcessImage(S)\n",
    "plt.imshow(combinedTest, cmap='gray')"
   ]
  },
  {
   "cell_type": "markdown",
   "metadata": {},
   "source": [
    "Histogram of the lines in the road. "
   ]
  },
  {
   "cell_type": "code",
   "execution_count": null,
   "metadata": {
    "collapsed": false
   },
   "outputs": [],
   "source": [
    "histogram = np.sum(combinedTest[combinedTest.shape[0]/2:,:], axis=0)\n",
    "plt.plot(histogram)"
   ]
  },
  {
   "cell_type": "code",
   "execution_count": null,
   "metadata": {
    "collapsed": false
   },
   "outputs": [],
   "source": [
    "print(combinedTest.shape)\n",
    "print(warpedTest.shape)\n",
    "\n",
    "leftx, rightx, lefty, righty, left_fit, right_fit, left_fitx, right_fitx = FindLinesInIntialImage(combinedTest)\n",
    "\n",
    "\n",
    "\n"
   ]
  },
  {
   "cell_type": "code",
   "execution_count": null,
   "metadata": {
    "collapsed": false
   },
   "outputs": [],
   "source": [
    "# Fit a second order polynomial to pixel positions in each  lane line\n",
    "# Plot up the data\n",
    "ploty = np.linspace(0, combinedTest.shape[0]-1, combinedTest.shape[0] )\n",
    "mark_size = 3\n",
    "#print(left_fitx.shape)\n",
    "#print(lefty.shape)\n",
    "plt.plot(leftx, lefty, 'o', color='red', markersize=mark_size)\n",
    "plt.plot(rightx, righty, 'o', color='blue', markersize=mark_size)\n",
    "plt.xlim(0, 1280)\n",
    "plt.ylim(0, 720)\n",
    "plt.plot(left_fitx, ploty, color='green', linewidth=3)\n",
    "plt.plot(right_fitx, ploty, color='green', linewidth=3)\n",
    "plt.gca().invert_yaxis() # to visualize as we do the images"
   ]
  },
  {
   "cell_type": "code",
   "execution_count": null,
   "metadata": {
    "collapsed": false
   },
   "outputs": [],
   "source": [
    "# display a test of the above method\n",
    "left_curverad,right_curverad, center = DetermineCurve(left_fit, right_fit, leftx, rightx, lefty, righty, ploty)\n",
    "# left_curverad,right_curverad, center = curvature(left_fit, right_fit, ploty)\n",
    "print(\"left: \", left_curverad, 'm')\n",
    "print(\"right: \", right_curverad, 'm')"
   ]
  },
  {
   "cell_type": "code",
   "execution_count": null,
   "metadata": {
    "collapsed": false
   },
   "outputs": [],
   "source": [
    "regionTest = DrawRegion(testImage, combinedTest, left_fitx, right_fitx, ploty, Minv)\n",
    "plt.imshow(regionTest)"
   ]
  },
  {
   "cell_type": "code",
   "execution_count": null,
   "metadata": {
    "collapsed": true
   },
   "outputs": [],
   "source": [
    "# test the sanity check\n",
    "leftOld = 1121.78640372  \n",
    "leftx, rightx, lefty, righty, left_fit, right_fit, left_fitx, right_fitx = FindLinesInIntialImage(combinedTest)\n",
    "left_curve, right_curve, center = DetermineCurve(left_fit, right_fit, leftx, rightx, lefty, righty, ploty)\n",
    "result = DeterimeIfSimilar(leftOld, left_curve)\n",
    "print(result, left_curve)"
   ]
  },
  {
   "cell_type": "raw",
   "metadata": {},
   "source": []
  }
 ],
 "metadata": {
  "anaconda-cloud": {},
  "kernelspec": {
   "display_name": "Python [conda env:python3]",
   "language": "python",
   "name": "conda-env-python3-py"
  },
  "language_info": {
   "codemirror_mode": {
    "name": "ipython",
    "version": 3
   },
   "file_extension": ".py",
   "mimetype": "text/x-python",
   "name": "python",
   "nbconvert_exporter": "python",
   "pygments_lexer": "ipython3",
   "version": "3.5.2"
  }
 },
 "nbformat": 4,
 "nbformat_minor": 1
}
